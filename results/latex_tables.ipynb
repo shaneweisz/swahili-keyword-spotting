{
 "cells": [
  {
   "cell_type": "code",
   "execution_count": 47,
   "metadata": {},
   "outputs": [],
   "source": [
    "import pandas as pd"
   ]
  },
  {
   "cell_type": "code",
   "execution_count": 48,
   "metadata": {},
   "outputs": [],
   "source": [
    "def csv_to_latex(csv):\n",
    "    df = pd.read_csv(csv)\n",
    "    print(df.style.hide(axis='index').format(precision=3).to_latex(hrules=True))"
   ]
  },
  {
   "cell_type": "code",
   "execution_count": 49,
   "metadata": {},
   "outputs": [
    {
     "name": "stdout",
     "output_type": "stream",
     "text": [
      "\\begin{tabular}{lrrr}\n",
      "\\toprule\n",
      "File & All & IV & OOV \\\\\n",
      "\\midrule\n",
      "reference.xml & 1.000 & 1.000 & 1.000 \\\\\n",
      "onebest-word.xml & 0.319 & 0.401 & 0.000 \\\\\n",
      "onebest-morph.xml & 0.318 & 0.383 & 0.068 \\\\\n",
      "onebest-word-to-morph.xml & 0.314 & 0.390 & 0.018 \\\\\n",
      "onebest-word-plus-grapheme-confusions.xml & 0.313 & 0.401 & -0.028 \\\\\n",
      "STO-reference.xml & 1.000 & 1.000 & 1.000 \\\\\n",
      "STO-onebest-word.xml & 0.320 & 0.402 & 0.000 \\\\\n",
      "STO-onebest-morph.xml & 0.326 & 0.393 & 0.068 \\\\\n",
      "STO-onebest-word-to-morph.xml & 0.319 & 0.396 & 0.018 \\\\\n",
      "STO-onebest-word-plus-grapheme-confusions.xml & 0.333 & 0.402 & 0.066 \\\\\n",
      "\\bottomrule\n",
      "\\end{tabular}\n",
      "\n"
     ]
    }
   ],
   "source": [
    "csv_to_latex(\"onebest-kws.csv\")"
   ]
  },
  {
   "cell_type": "code",
   "execution_count": 54,
   "metadata": {},
   "outputs": [
    {
     "name": "stdout",
     "output_type": "stream",
     "text": [
      "\\begin{tabular}{lrrr}\n",
      "\\toprule\n",
      "File & All & IV & OOV \\\\\n",
      "\\midrule\n",
      "lattice-word.xml & 0.399 & 0.501 & 0.000 \\\\\n",
      "lattice-morph.xml & 0.360 & 0.430 & 0.089 \\\\\n",
      "lattice-word-sys2.xml & 0.403 & 0.507 & 0.000 \\\\\n",
      "STO-lattice-word.xml & 0.460 & 0.579 & 0.000 \\\\\n",
      "STO-lattice-morph.xml & 0.520 & 0.559 & 0.367 \\\\\n",
      "STO-lattice-word-sys2.xml & 0.465 & 0.585 & 0.000 \\\\\n",
      "\\bottomrule\n",
      "\\end{tabular}\n",
      "\n"
     ]
    }
   ],
   "source": [
    "csv_to_latex(\"lattice-kws.csv\")"
   ]
  },
  {
   "cell_type": "code",
   "execution_count": 56,
   "metadata": {},
   "outputs": [
    {
     "name": "stdout",
     "output_type": "stream",
     "text": [
      "\\begin{tabular}{lrrrr}\n",
      "\\toprule\n",
      "System & All & IV & OOV & Threshold \\\\\n",
      "\\midrule\n",
      "onebest-word+onebest-morph-WCombMNZ.xml & 0.348 & 0.420 & 0.068 & 0.065 \\\\\n",
      "onebest-word+onebest-morph-WCombMNZ-STO.xml & 0.355 & 0.429 & 0.068 & 0.036 \\\\\n",
      "STO-onebest-word+STO-onebest-morph-WCombMNZ.xml & 0.361 & 0.437 & 0.068 & 0.076 \\\\\n",
      "STO-onebest-word+STO-onebest-morph-WCombMNZ-STO.xml & 0.361 & 0.437 & 0.068 & 0.038 \\\\\n",
      "onebest-word-plus-grapheme-confusions+onebest-morph-WCombMNZ.xml & 0.337 & 0.420 & 0.013 & 0.065 \\\\\n",
      "onebest-word-plus-grapheme-confusions+onebest-morph-WCombMNZ-STO.xml & 0.363 & 0.429 & 0.104 & 0.036 \\\\\n",
      "STO-onebest-word-plus-grapheme-confusions+STO-onebest-morph-WCombMNZ.xml & 0.369 & 0.437 & 0.105 & 0.076 \\\\\n",
      "STO-onebest-word-plus-grapheme-confusions+STO-onebest-morph-WCombMNZ-STO.xml & 0.369 & 0.437 & 0.104 & 0.038 \\\\\n",
      "\\bottomrule\n",
      "\\end{tabular}\n",
      "\n"
     ]
    }
   ],
   "source": [
    "csv_to_latex(\"system-combination-onebest.csv\")"
   ]
  },
  {
   "cell_type": "code",
   "execution_count": 55,
   "metadata": {},
   "outputs": [
    {
     "name": "stdout",
     "output_type": "stream",
     "text": [
      "\\begin{tabular}{lrrrr}\n",
      "\\toprule\n",
      "System & All & IV & OOV & Threshold \\\\\n",
      "\\midrule\n",
      "lattice-word+lattice-morph+lattice-word-sys2-WCombMNZ.xml & 0.412 & 0.496 & 0.087 & 0.195 \\\\\n",
      "attice-word+lattice-morph+lattice-word-sys2-WCombMNZ-STO.xml & 0.553 & 0.602 & 0.363 & 0.031 \\\\\n",
      "STO-lattice-word+STO-lattice-morph+STO-lattice-word-sys2-WCombMNZ.xml & 0.553 & 0.601 & 0.365 & 0.086 \\\\\n",
      "STO-lattice-word+STO-lattice-morph+STO-lattice-word-sys2-WCombMNZ-STO.xml & 0.552 & 0.601 & 0.362 & 0.030 \\\\\n",
      "\\bottomrule\n",
      "\\end{tabular}\n",
      "\n"
     ]
    }
   ],
   "source": [
    "csv_to_latex(\"system-combination-lattice.csv\")"
   ]
  },
  {
   "cell_type": "code",
   "execution_count": 52,
   "metadata": {},
   "outputs": [
    {
     "name": "stdout",
     "output_type": "stream",
     "text": [
      "\\begin{tabular}{lrrr}\n",
      "\\toprule\n",
      "System & QueryLength & MTWV & Threshold \\\\\n",
      "\\midrule\n",
      "lattice-morph.xml & 1 & 0.372 & 0.071 \\\\\n",
      "lattice-morph.xml & 2 & 0.384 & 0.071 \\\\\n",
      "lattice-morph.xml & 3 & 0.197 & 0.071 \\\\\n",
      "lattice-morph.xml & 4 & 0.000 & 0.071 \\\\\n",
      "lattice-morph.xml & 5 & 0.000 & 0.071 \\\\\n",
      "STO-lattice-morph.xml & 1 & 0.526 & 0.039 \\\\\n",
      "STO-lattice-morph.xml & 2 & 0.575 & 0.039 \\\\\n",
      "STO-lattice-morph.xml & 3 & 0.293 & 0.039 \\\\\n",
      "STO-lattice-morph.xml & 4 & -0.003 & 0.039 \\\\\n",
      "STO-lattice-morph.xml & 5 & 0.000 & 0.039 \\\\\n",
      "STO-lattice-word_+_STO-lattice-morph_+_STO-lattice-word-sys2_WCombMNZ-STO.xml & 1 & 0.549 & 0.030 \\\\\n",
      "STO-lattice-word_+_STO-lattice-morph_+_STO-lattice-word-sys2_WCombMNZ-STO.xml & 2 & 0.610 & 0.030 \\\\\n",
      "STO-lattice-word_+_STO-lattice-morph_+_STO-lattice-word-sys2_WCombMNZ-STO.xml & 3 & 0.389 & 0.030 \\\\\n",
      "STO-lattice-word_+_STO-lattice-morph_+_STO-lattice-word-sys2_WCombMNZ-STO.xml & 4 & 0.097 & 0.030 \\\\\n",
      "STO-lattice-word_+_STO-lattice-morph_+_STO-lattice-word-sys2_WCombMNZ-STO.xml & 5 & 0.000 & 0.030 \\\\\n",
      "\\bottomrule\n",
      "\\end{tabular}\n",
      "\n"
     ]
    }
   ],
   "source": [
    "csv_to_latex(\"query-lengths.csv\")"
   ]
  },
  {
   "cell_type": "code",
   "execution_count": null,
   "metadata": {},
   "outputs": [],
   "source": []
  }
 ],
 "metadata": {
  "interpreter": {
   "hash": "faf4d5e7db82428673a725820af4cb7597e2bddf154caa21744a749c1eca38c8"
  },
  "kernelspec": {
   "display_name": "Python 3.9.7 ('.venv': venv)",
   "language": "python",
   "name": "python3"
  },
  "language_info": {
   "codemirror_mode": {
    "name": "ipython",
    "version": 3
   },
   "file_extension": ".py",
   "mimetype": "text/x-python",
   "name": "python",
   "nbconvert_exporter": "python",
   "pygments_lexer": "ipython3",
   "version": "3.9.7"
  },
  "orig_nbformat": 4
 },
 "nbformat": 4,
 "nbformat_minor": 2
}
